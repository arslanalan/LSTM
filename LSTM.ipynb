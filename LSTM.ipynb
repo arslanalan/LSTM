{
  "nbformat": 4,
  "nbformat_minor": 0,
  "metadata": {
    "colab": {
      "name": "LSTM.ipynb",
      "version": "0.3.2",
      "provenance": [],
      "collapsed_sections": [],
      "include_colab_link": true
    },
    "kernelspec": {
      "name": "python3",
      "display_name": "Python 3"
    }
  },
  "cells": [
    {
      "cell_type": "markdown",
      "metadata": {
        "id": "view-in-github",
        "colab_type": "text"
      },
      "source": [
        "<a href=\"https://colab.research.google.com/github/arslanalan/LSTM/blob/master/LSTM.ipynb\" target=\"_parent\"><img src=\"https://colab.research.google.com/assets/colab-badge.svg\" alt=\"Open In Colab\"/></a>"
      ]
    },
    {
      "cell_type": "markdown",
      "metadata": {
        "id": "Zcu8BTJgWx7R",
        "colab_type": "text"
      },
      "source": [
        "EPIAS tarafından paylaşılan Gün Öncesi Piyasa (GÖP) verileri üzerinde kısa vadeli tahminler yapılmaya çalışılacaktır. https://seffaflik.epias.com.tr/transparency/ adresinden, istenilen tarih aralığına göre PTF verileri .csv formatında indirilebilmektedir. Öncelikli olarak Şencan tarafından yapılan çalışmadaki veriler üzerinde işlem yapılması planlanmıştır. Dolayısıyla söz konusu çalışmada belirtilen tarih aralığındaki veriler Google Drive klasörüne .csv formatında kaydedilmiştir. Bu veri üzerinde yapılan çalışmalar detaylı olarak açıklanacaktır.\n",
        "\n",
        "# Gerekli Kütüphanelerin Yüklenmesi\n",
        "Verinin çalışma ortamına yüklenmesi, ön işlem, makine öğrenmesi algoritmasının uygulanması vb. aşamalarda kullanılacak kütüphaneler yüklenmiştir."
      ]
    },
    {
      "cell_type": "code",
      "metadata": {
        "id": "hF8FXhIuXQDl",
        "colab_type": "code",
        "outputId": "f14808af-13da-4368-9d47-b59b3fede8db",
        "colab": {
          "base_uri": "https://localhost:8080/",
          "height": 67
        }
      },
      "source": [
        "import math\n",
        "\n",
        "from matplotlib import cm\n",
        "from matplotlib import pyplot as plt\n",
        "import numpy as np\n",
        "import pandas as pd\n",
        "from pandas import Series\n",
        "from sklearn import metrics\n",
        "import tensorflow as tf\n",
        "\n",
        "\n",
        "# GoogleDrive klasöründen Colaboratory ortamına csv veri dosyası okumak için gerekli kütüphaneler\n",
        "!pip install -U -q PyDrive\n",
        "from pydrive.auth import GoogleAuth\n",
        "from pydrive.drive import GoogleDrive\n",
        "from google.colab import auth\n",
        "from oauth2client.client import GoogleCredentials\n",
        "# GoogleDrive'a erişmek için kimlik doğrulama\n",
        "auth.authenticate_user()\n",
        "gauth = GoogleAuth()\n",
        "gauth.credentials = GoogleCredentials.get_application_default()\n",
        "drive = GoogleDrive(gauth)\n",
        "\n",
        "# Detaylı hata logu görülebilmesini sağlıyor. Gerek duyulmazsa çıkarılabilir.\n",
        "tf.logging.set_verbosity(tf.logging.ERROR)\n",
        "\n",
        "# Decimal sayılarda iki ondalık gösterilmesi ve ekran satır sayısı ayarı.\n",
        "pd.options.display.float_format = '{:.2f}'.format\n",
        "pd.options.display.max_rows = 15\n"
      ],
      "execution_count": 0,
      "outputs": [
        {
          "output_type": "stream",
          "text": [
            "Using TensorFlow backend.\n"
          ],
          "name": "stderr"
        },
        {
          "output_type": "stream",
          "text": [
            "\u001b[?25l\r\u001b[K     |▎                               | 10kB 18.7MB/s eta 0:00:01\r\u001b[K     |▋                               | 20kB 3.3MB/s eta 0:00:01\r\u001b[K     |█                               | 30kB 4.8MB/s eta 0:00:01\r\u001b[K     |█▎                              | 40kB 3.0MB/s eta 0:00:01\r\u001b[K     |█▋                              | 51kB 3.7MB/s eta 0:00:01\r\u001b[K     |██                              | 61kB 4.4MB/s eta 0:00:01\r\u001b[K     |██▎                             | 71kB 5.0MB/s eta 0:00:01\r\u001b[K     |██▋                             | 81kB 3.9MB/s eta 0:00:01\r\u001b[K     |███                             | 92kB 4.3MB/s eta 0:00:01\r\u001b[K     |███▎                            | 102kB 4.7MB/s eta 0:00:01\r\u001b[K     |███▋                            | 112kB 4.7MB/s eta 0:00:01\r\u001b[K     |████                            | 122kB 4.7MB/s eta 0:00:01\r\u001b[K     |████▎                           | 133kB 4.7MB/s eta 0:00:01\r\u001b[K     |████▋                           | 143kB 4.7MB/s eta 0:00:01\r\u001b[K     |█████                           | 153kB 4.7MB/s eta 0:00:01\r\u001b[K     |█████▎                          | 163kB 4.7MB/s eta 0:00:01\r\u001b[K     |█████▋                          | 174kB 4.7MB/s eta 0:00:01\r\u001b[K     |██████                          | 184kB 4.7MB/s eta 0:00:01\r\u001b[K     |██████▎                         | 194kB 4.7MB/s eta 0:00:01\r\u001b[K     |██████▋                         | 204kB 4.7MB/s eta 0:00:01\r\u001b[K     |███████                         | 215kB 4.7MB/s eta 0:00:01\r\u001b[K     |███████▎                        | 225kB 4.7MB/s eta 0:00:01\r\u001b[K     |███████▋                        | 235kB 4.7MB/s eta 0:00:01\r\u001b[K     |████████                        | 245kB 4.7MB/s eta 0:00:01\r\u001b[K     |████████▎                       | 256kB 4.7MB/s eta 0:00:01\r\u001b[K     |████████▋                       | 266kB 4.7MB/s eta 0:00:01\r\u001b[K     |█████████                       | 276kB 4.7MB/s eta 0:00:01\r\u001b[K     |█████████▎                      | 286kB 4.7MB/s eta 0:00:01\r\u001b[K     |█████████▋                      | 296kB 4.7MB/s eta 0:00:01\r\u001b[K     |██████████                      | 307kB 4.7MB/s eta 0:00:01\r\u001b[K     |██████████▎                     | 317kB 4.7MB/s eta 0:00:01\r\u001b[K     |██████████▋                     | 327kB 4.7MB/s eta 0:00:01\r\u001b[K     |███████████                     | 337kB 4.7MB/s eta 0:00:01\r\u001b[K     |███████████▎                    | 348kB 4.7MB/s eta 0:00:01\r\u001b[K     |███████████▋                    | 358kB 4.7MB/s eta 0:00:01\r\u001b[K     |████████████                    | 368kB 4.7MB/s eta 0:00:01\r\u001b[K     |████████████▎                   | 378kB 4.7MB/s eta 0:00:01\r\u001b[K     |████████████▋                   | 389kB 4.7MB/s eta 0:00:01\r\u001b[K     |█████████████                   | 399kB 4.7MB/s eta 0:00:01\r\u001b[K     |█████████████▎                  | 409kB 4.7MB/s eta 0:00:01\r\u001b[K     |█████████████▋                  | 419kB 4.7MB/s eta 0:00:01\r\u001b[K     |██████████████                  | 430kB 4.7MB/s eta 0:00:01\r\u001b[K     |██████████████▎                 | 440kB 4.7MB/s eta 0:00:01\r\u001b[K     |██████████████▋                 | 450kB 4.7MB/s eta 0:00:01\r\u001b[K     |███████████████                 | 460kB 4.7MB/s eta 0:00:01\r\u001b[K     |███████████████▎                | 471kB 4.7MB/s eta 0:00:01\r\u001b[K     |███████████████▋                | 481kB 4.7MB/s eta 0:00:01\r\u001b[K     |████████████████                | 491kB 4.7MB/s eta 0:00:01\r\u001b[K     |████████████████▎               | 501kB 4.7MB/s eta 0:00:01\r\u001b[K     |████████████████▋               | 512kB 4.7MB/s eta 0:00:01\r\u001b[K     |█████████████████               | 522kB 4.7MB/s eta 0:00:01\r\u001b[K     |█████████████████▎              | 532kB 4.7MB/s eta 0:00:01\r\u001b[K     |█████████████████▋              | 542kB 4.7MB/s eta 0:00:01\r\u001b[K     |██████████████████              | 552kB 4.7MB/s eta 0:00:01\r\u001b[K     |██████████████████▎             | 563kB 4.7MB/s eta 0:00:01\r\u001b[K     |██████████████████▋             | 573kB 4.7MB/s eta 0:00:01\r\u001b[K     |███████████████████             | 583kB 4.7MB/s eta 0:00:01\r\u001b[K     |███████████████████▎            | 593kB 4.7MB/s eta 0:00:01\r\u001b[K     |███████████████████▋            | 604kB 4.7MB/s eta 0:00:01\r\u001b[K     |████████████████████            | 614kB 4.7MB/s eta 0:00:01\r\u001b[K     |████████████████████▎           | 624kB 4.7MB/s eta 0:00:01\r\u001b[K     |████████████████████▋           | 634kB 4.7MB/s eta 0:00:01\r\u001b[K     |█████████████████████           | 645kB 4.7MB/s eta 0:00:01\r\u001b[K     |█████████████████████▎          | 655kB 4.7MB/s eta 0:00:01\r\u001b[K     |█████████████████████▋          | 665kB 4.7MB/s eta 0:00:01\r\u001b[K     |██████████████████████          | 675kB 4.7MB/s eta 0:00:01\r\u001b[K     |██████████████████████▎         | 686kB 4.7MB/s eta 0:00:01\r\u001b[K     |██████████████████████▋         | 696kB 4.7MB/s eta 0:00:01\r\u001b[K     |███████████████████████         | 706kB 4.7MB/s eta 0:00:01\r\u001b[K     |███████████████████████▎        | 716kB 4.7MB/s eta 0:00:01\r\u001b[K     |███████████████████████▋        | 727kB 4.7MB/s eta 0:00:01\r\u001b[K     |████████████████████████        | 737kB 4.7MB/s eta 0:00:01\r\u001b[K     |████████████████████████▎       | 747kB 4.7MB/s eta 0:00:01\r\u001b[K     |████████████████████████▋       | 757kB 4.7MB/s eta 0:00:01\r\u001b[K     |████████████████████████▉       | 768kB 4.7MB/s eta 0:00:01\r\u001b[K     |█████████████████████████▏      | 778kB 4.7MB/s eta 0:00:01\r\u001b[K     |█████████████████████████▌      | 788kB 4.7MB/s eta 0:00:01\r\u001b[K     |█████████████████████████▉      | 798kB 4.7MB/s eta 0:00:01\r\u001b[K     |██████████████████████████▏     | 808kB 4.7MB/s eta 0:00:01\r\u001b[K     |██████████████████████████▌     | 819kB 4.7MB/s eta 0:00:01\r\u001b[K     |██████████████████████████▉     | 829kB 4.7MB/s eta 0:00:01\r\u001b[K     |███████████████████████████▏    | 839kB 4.7MB/s eta 0:00:01\r\u001b[K     |███████████████████████████▌    | 849kB 4.7MB/s eta 0:00:01\r\u001b[K     |███████████████████████████▉    | 860kB 4.7MB/s eta 0:00:01\r\u001b[K     |████████████████████████████▏   | 870kB 4.7MB/s eta 0:00:01\r\u001b[K     |████████████████████████████▌   | 880kB 4.7MB/s eta 0:00:01\r\u001b[K     |████████████████████████████▉   | 890kB 4.7MB/s eta 0:00:01\r\u001b[K     |█████████████████████████████▏  | 901kB 4.7MB/s eta 0:00:01\r\u001b[K     |█████████████████████████████▌  | 911kB 4.7MB/s eta 0:00:01\r\u001b[K     |█████████████████████████████▉  | 921kB 4.7MB/s eta 0:00:01\r\u001b[K     |██████████████████████████████▏ | 931kB 4.7MB/s eta 0:00:01\r\u001b[K     |██████████████████████████████▌ | 942kB 4.7MB/s eta 0:00:01\r\u001b[K     |██████████████████████████████▉ | 952kB 4.7MB/s eta 0:00:01\r\u001b[K     |███████████████████████████████▏| 962kB 4.7MB/s eta 0:00:01\r\u001b[K     |███████████████████████████████▌| 972kB 4.7MB/s eta 0:00:01\r\u001b[K     |███████████████████████████████▉| 983kB 4.7MB/s eta 0:00:01\r\u001b[K     |████████████████████████████████| 993kB 4.7MB/s \n",
            "\u001b[?25h  Building wheel for PyDrive (setup.py) ... \u001b[?25l\u001b[?25hdone\n"
          ],
          "name": "stdout"
        }
      ]
    },
    {
      "cell_type": "markdown",
      "metadata": {
        "id": "fiXdfNOPU4Zx",
        "colab_type": "text"
      },
      "source": [
        "Eğitim verisini yüklüyoruz  "
      ]
    },
    {
      "cell_type": "code",
      "metadata": {
        "id": "Y4nm_QLbUuLl",
        "colab_type": "code",
        "outputId": "ababeebd-b3fd-49ea-b1f9-93c4cb82788e",
        "colab": {
          "base_uri": "https://localhost:8080/",
          "height": 195
        }
      },
      "source": [
        "link = \"https://drive.google.com/open?id=1oxM5OsX21PDmS0P-0nwqL2VGGuHE5KBA\"\n",
        "fluff, id = link.split('=')\n",
        "downloaded = drive.CreateFile({'id':id}) \n",
        "downloaded.GetContentFile('train.csv')  \n",
        "winter_train = pd.read_csv('train.csv', decimal=',', thousands='.')\n",
        "winter_train.head()"
      ],
      "execution_count": 0,
      "outputs": [
        {
          "output_type": "execute_result",
          "data": {
            "text/html": [
              "<div>\n",
              "<style scoped>\n",
              "    .dataframe tbody tr th:only-of-type {\n",
              "        vertical-align: middle;\n",
              "    }\n",
              "\n",
              "    .dataframe tbody tr th {\n",
              "        vertical-align: top;\n",
              "    }\n",
              "\n",
              "    .dataframe thead th {\n",
              "        text-align: right;\n",
              "    }\n",
              "</style>\n",
              "<table border=\"1\" class=\"dataframe\">\n",
              "  <thead>\n",
              "    <tr style=\"text-align: right;\">\n",
              "      <th></th>\n",
              "      <th>Tarih</th>\n",
              "      <th>Saat</th>\n",
              "      <th>PTF (TL/MWh)</th>\n",
              "      <th>PTF (USD/MWh)</th>\n",
              "      <th>PTF (EUR/MWh)</th>\n",
              "    </tr>\n",
              "  </thead>\n",
              "  <tbody>\n",
              "    <tr>\n",
              "      <th>0</th>\n",
              "      <td>01/01/2015</td>\n",
              "      <td>00:00</td>\n",
              "      <td>70.23</td>\n",
              "      <td>30.29</td>\n",
              "      <td>24.90</td>\n",
              "    </tr>\n",
              "    <tr>\n",
              "      <th>1</th>\n",
              "      <td>01/01/2015</td>\n",
              "      <td>01:00</td>\n",
              "      <td>20.02</td>\n",
              "      <td>8.63</td>\n",
              "      <td>7.10</td>\n",
              "    </tr>\n",
              "    <tr>\n",
              "      <th>2</th>\n",
              "      <td>01/01/2015</td>\n",
              "      <td>02:00</td>\n",
              "      <td>0.00</td>\n",
              "      <td>0.00</td>\n",
              "      <td>0.00</td>\n",
              "    </tr>\n",
              "    <tr>\n",
              "      <th>3</th>\n",
              "      <td>01/01/2015</td>\n",
              "      <td>03:00</td>\n",
              "      <td>0.00</td>\n",
              "      <td>0.00</td>\n",
              "      <td>0.00</td>\n",
              "    </tr>\n",
              "    <tr>\n",
              "      <th>4</th>\n",
              "      <td>01/01/2015</td>\n",
              "      <td>04:00</td>\n",
              "      <td>0.00</td>\n",
              "      <td>0.00</td>\n",
              "      <td>0.00</td>\n",
              "    </tr>\n",
              "  </tbody>\n",
              "</table>\n",
              "</div>"
            ],
            "text/plain": [
              "        Tarih   Saat  PTF (TL/MWh)  PTF (USD/MWh)  PTF (EUR/MWh)\n",
              "0  01/01/2015  00:00         70.23          30.29          24.90\n",
              "1  01/01/2015  01:00         20.02           8.63           7.10\n",
              "2  01/01/2015  02:00          0.00           0.00           0.00\n",
              "3  01/01/2015  03:00          0.00           0.00           0.00\n",
              "4  01/01/2015  04:00          0.00           0.00           0.00"
            ]
          },
          "metadata": {
            "tags": []
          },
          "execution_count": 3
        }
      ]
    },
    {
      "cell_type": "markdown",
      "metadata": {
        "id": "uArw2wD5Uqxg",
        "colab_type": "text"
      },
      "source": [
        "Test verisini yüklüyoruz. \n",
        "\n",
        "\n",
        "\n",
        "\n",
        "\n",
        "\n",
        "\n",
        "\n",
        "\n",
        "\n",
        "\n",
        "\n",
        "\n",
        "\n"
      ]
    },
    {
      "cell_type": "code",
      "metadata": {
        "id": "Xh6GS6QFmyD8",
        "colab_type": "code",
        "outputId": "fa04dee9-b2cc-4846-88a5-0264120e3a94",
        "colab": {
          "base_uri": "https://localhost:8080/",
          "height": 195
        }
      },
      "source": [
        "link = \"https://drive.google.com/open?id=1y6HmORPWpetXF7847nW9emonzjmEV-yk\"\n",
        "fluff, id = link.split('=')\n",
        "downloaded = drive.CreateFile({'id':id}) \n",
        "downloaded.GetContentFile('test.csv')  \n",
        "winter_test = pd.read_csv('test.csv', decimal=',', thousands='.')\n",
        "winter_test.head()"
      ],
      "execution_count": 0,
      "outputs": [
        {
          "output_type": "execute_result",
          "data": {
            "text/html": [
              "<div>\n",
              "<style scoped>\n",
              "    .dataframe tbody tr th:only-of-type {\n",
              "        vertical-align: middle;\n",
              "    }\n",
              "\n",
              "    .dataframe tbody tr th {\n",
              "        vertical-align: top;\n",
              "    }\n",
              "\n",
              "    .dataframe thead th {\n",
              "        text-align: right;\n",
              "    }\n",
              "</style>\n",
              "<table border=\"1\" class=\"dataframe\">\n",
              "  <thead>\n",
              "    <tr style=\"text-align: right;\">\n",
              "      <th></th>\n",
              "      <th>Tarih</th>\n",
              "      <th>Saat</th>\n",
              "      <th>PTF (TL/MWh)</th>\n",
              "      <th>PTF (USD/MWh)</th>\n",
              "      <th>PTF (EUR/MWh)</th>\n",
              "    </tr>\n",
              "  </thead>\n",
              "  <tbody>\n",
              "    <tr>\n",
              "      <th>0</th>\n",
              "      <td>23/01/2017</td>\n",
              "      <td>00:00</td>\n",
              "      <td>174.94</td>\n",
              "      <td>45.82</td>\n",
              "      <td>43.00</td>\n",
              "    </tr>\n",
              "    <tr>\n",
              "      <th>1</th>\n",
              "      <td>23/01/2017</td>\n",
              "      <td>01:00</td>\n",
              "      <td>148.00</td>\n",
              "      <td>38.77</td>\n",
              "      <td>36.38</td>\n",
              "    </tr>\n",
              "    <tr>\n",
              "      <th>2</th>\n",
              "      <td>23/01/2017</td>\n",
              "      <td>02:00</td>\n",
              "      <td>89.36</td>\n",
              "      <td>23.41</td>\n",
              "      <td>21.96</td>\n",
              "    </tr>\n",
              "    <tr>\n",
              "      <th>3</th>\n",
              "      <td>23/01/2017</td>\n",
              "      <td>03:00</td>\n",
              "      <td>80.74</td>\n",
              "      <td>21.15</td>\n",
              "      <td>19.85</td>\n",
              "    </tr>\n",
              "    <tr>\n",
              "      <th>4</th>\n",
              "      <td>23/01/2017</td>\n",
              "      <td>04:00</td>\n",
              "      <td>84.77</td>\n",
              "      <td>22.21</td>\n",
              "      <td>20.84</td>\n",
              "    </tr>\n",
              "  </tbody>\n",
              "</table>\n",
              "</div>"
            ],
            "text/plain": [
              "        Tarih   Saat  PTF (TL/MWh)  PTF (USD/MWh)  PTF (EUR/MWh)\n",
              "0  23/01/2017  00:00        174.94          45.82          43.00\n",
              "1  23/01/2017  01:00        148.00          38.77          36.38\n",
              "2  23/01/2017  02:00         89.36          23.41          21.96\n",
              "3  23/01/2017  03:00         80.74          21.15          19.85\n",
              "4  23/01/2017  04:00         84.77          22.21          20.84"
            ]
          },
          "metadata": {
            "tags": []
          },
          "execution_count": 4
        }
      ]
    },
    {
      "cell_type": "markdown",
      "metadata": {
        "id": "ve-BzE_xVbUb",
        "colab_type": "text"
      },
      "source": [
        "# Veri Ön İşlem\n",
        "İndirilen veri kümesinde Tarih ve Saat ayrı sütunlarda ve string formatında bulunmaktadır. Bu iki sütun birleştirilecek ve Date öğesine dönüştürülecektir. Ayrıca veriden USD, EUR ile artık kullanım yeri kalmayacak olan Tarih ve Saat sütunları kaldırılacaktır."
      ]
    },
    {
      "cell_type": "code",
      "metadata": {
        "id": "i38RU5m9WIDG",
        "colab_type": "code",
        "outputId": "43fc7fbc-4abf-49d2-9fb5-58ac882fd5a2",
        "colab": {
          "base_uri": "https://localhost:8080/",
          "height": 225
        }
      },
      "source": [
        "winter_train[\"Time\"] = winter_train[[\"Tarih\", \"Saat\"]].apply(lambda x: ' '.join(x), axis=1)\n",
        "winter_train[\"Time\"] = pd.to_datetime(winter_train[\"Time\"], format='%d/%m/%Y %H:%M')\n",
        "winter_train = winter_train.set_index('Time')\n",
        "winter_train.drop([\"Tarih\", \"Saat\", \"PTF (USD/MWh)\", \"PTF (EUR/MWh)\"], axis=1, inplace=True)\n",
        "winter_train.head()"
      ],
      "execution_count": 0,
      "outputs": [
        {
          "output_type": "execute_result",
          "data": {
            "text/html": [
              "<div>\n",
              "<style scoped>\n",
              "    .dataframe tbody tr th:only-of-type {\n",
              "        vertical-align: middle;\n",
              "    }\n",
              "\n",
              "    .dataframe tbody tr th {\n",
              "        vertical-align: top;\n",
              "    }\n",
              "\n",
              "    .dataframe thead th {\n",
              "        text-align: right;\n",
              "    }\n",
              "</style>\n",
              "<table border=\"1\" class=\"dataframe\">\n",
              "  <thead>\n",
              "    <tr style=\"text-align: right;\">\n",
              "      <th></th>\n",
              "      <th>PTF (TL/MWh)</th>\n",
              "    </tr>\n",
              "    <tr>\n",
              "      <th>Time</th>\n",
              "      <th></th>\n",
              "    </tr>\n",
              "  </thead>\n",
              "  <tbody>\n",
              "    <tr>\n",
              "      <th>2015-01-01 00:00:00</th>\n",
              "      <td>70.23</td>\n",
              "    </tr>\n",
              "    <tr>\n",
              "      <th>2015-01-01 01:00:00</th>\n",
              "      <td>20.02</td>\n",
              "    </tr>\n",
              "    <tr>\n",
              "      <th>2015-01-01 02:00:00</th>\n",
              "      <td>0.00</td>\n",
              "    </tr>\n",
              "    <tr>\n",
              "      <th>2015-01-01 03:00:00</th>\n",
              "      <td>0.00</td>\n",
              "    </tr>\n",
              "    <tr>\n",
              "      <th>2015-01-01 04:00:00</th>\n",
              "      <td>0.00</td>\n",
              "    </tr>\n",
              "  </tbody>\n",
              "</table>\n",
              "</div>"
            ],
            "text/plain": [
              "                     PTF (TL/MWh)\n",
              "Time                             \n",
              "2015-01-01 00:00:00         70.23\n",
              "2015-01-01 01:00:00         20.02\n",
              "2015-01-01 02:00:00          0.00\n",
              "2015-01-01 03:00:00          0.00\n",
              "2015-01-01 04:00:00          0.00"
            ]
          },
          "metadata": {
            "tags": []
          },
          "execution_count": 5
        }
      ]
    },
    {
      "cell_type": "markdown",
      "metadata": {
        "id": "Q8wiGeny1l9l",
        "colab_type": "text"
      },
      "source": [
        ""
      ]
    },
    {
      "cell_type": "markdown",
      "metadata": {
        "id": "6SV-i8TD1mJk",
        "colab_type": "text"
      },
      "source": [
        ""
      ]
    },
    {
      "cell_type": "markdown",
      "metadata": {
        "id": "XCQgc-9u1mWs",
        "colab_type": "text"
      },
      "source": [
        ""
      ]
    },
    {
      "cell_type": "code",
      "metadata": {
        "id": "DJWO6o88Xpeu",
        "colab_type": "code",
        "outputId": "a7307421-0929-43d2-d16d-f7543c3d63ba",
        "colab": {
          "base_uri": "https://localhost:8080/",
          "height": 542
        }
      },
      "source": [
        "winter_train.plot(grid=True, figsize = (14,9))"
      ],
      "execution_count": 0,
      "outputs": [
        {
          "output_type": "execute_result",
          "data": {
            "text/plain": [
              "<matplotlib.axes._subplots.AxesSubplot at 0x7f7e73addd30>"
            ]
          },
          "metadata": {
            "tags": []
          },
          "execution_count": 6
        },
        {
          "output_type": "display_data",
          "data": {
            "image/png": "[encoded data removed]",
            "text/plain": [
              "<Figure size 1008x648 with 1 Axes>"
            ]
          },
          "metadata": {
            "tags": []
          }
        }
      ]
    },
    {
      "cell_type": "markdown",
      "metadata": {
        "id": "nShkH0sa1eic",
        "colab_type": "text"
      },
      "source": [
        ""
      ]
    },
    {
      "cell_type": "markdown",
      "metadata": {
        "id": "wkaJVdEc1e8m",
        "colab_type": "text"
      },
      "source": [
        ""
      ]
    },
    {
      "cell_type": "code",
      "metadata": {
        "id": "ztWQWM1BnZTW",
        "colab_type": "code",
        "outputId": "cec57700-2059-4e9f-9a16-62d0142420d8",
        "colab": {
          "base_uri": "https://localhost:8080/",
          "height": 225
        }
      },
      "source": [
        "winter_test[\"Time\"] = winter_test[[\"Tarih\", \"Saat\"]].apply(lambda x: ' '.join(x), axis=1)\n",
        "winter_test[\"Time\"] = pd.to_datetime(winter_test[\"Time\"], format='%d/%m/%Y %H:%M')\n",
        "winter_test = winter_test.set_index('Time')\n",
        "winter_test.drop([\"Tarih\", \"Saat\", \"PTF (USD/MWh)\", \"PTF (EUR/MWh)\"], axis=1, inplace=True)\n",
        "winter_test.head()"
      ],
      "execution_count": 0,
      "outputs": [
        {
          "output_type": "execute_result",
          "data": {
            "text/html": [
              "<div>\n",
              "<style scoped>\n",
              "    .dataframe tbody tr th:only-of-type {\n",
              "        vertical-align: middle;\n",
              "    }\n",
              "\n",
              "    .dataframe tbody tr th {\n",
              "        vertical-align: top;\n",
              "    }\n",
              "\n",
              "    .dataframe thead th {\n",
              "        text-align: right;\n",
              "    }\n",
              "</style>\n",
              "<table border=\"1\" class=\"dataframe\">\n",
              "  <thead>\n",
              "    <tr style=\"text-align: right;\">\n",
              "      <th></th>\n",
              "      <th>PTF (TL/MWh)</th>\n",
              "    </tr>\n",
              "    <tr>\n",
              "      <th>Time</th>\n",
              "      <th></th>\n",
              "    </tr>\n",
              "  </thead>\n",
              "  <tbody>\n",
              "    <tr>\n",
              "      <th>2017-01-23 00:00:00</th>\n",
              "      <td>174.94</td>\n",
              "    </tr>\n",
              "    <tr>\n",
              "      <th>2017-01-23 01:00:00</th>\n",
              "      <td>148.00</td>\n",
              "    </tr>\n",
              "    <tr>\n",
              "      <th>2017-01-23 02:00:00</th>\n",
              "      <td>89.36</td>\n",
              "    </tr>\n",
              "    <tr>\n",
              "      <th>2017-01-23 03:00:00</th>\n",
              "      <td>80.74</td>\n",
              "    </tr>\n",
              "    <tr>\n",
              "      <th>2017-01-23 04:00:00</th>\n",
              "      <td>84.77</td>\n",
              "    </tr>\n",
              "  </tbody>\n",
              "</table>\n",
              "</div>"
            ],
            "text/plain": [
              "                     PTF (TL/MWh)\n",
              "Time                             \n",
              "2017-01-23 00:00:00        174.94\n",
              "2017-01-23 01:00:00        148.00\n",
              "2017-01-23 02:00:00         89.36\n",
              "2017-01-23 03:00:00         80.74\n",
              "2017-01-23 04:00:00         84.77"
            ]
          },
          "metadata": {
            "tags": []
          },
          "execution_count": 7
        }
      ]
    },
    {
      "cell_type": "markdown",
      "metadata": {
        "id": "M14W2FpK1ydz",
        "colab_type": "text"
      },
      "source": [
        ""
      ]
    },
    {
      "cell_type": "markdown",
      "metadata": {
        "id": "2aqcu_oZ1zEd",
        "colab_type": "text"
      },
      "source": [
        ""
      ]
    },
    {
      "cell_type": "markdown",
      "metadata": {
        "id": "Kyu8oSPq1_Ek",
        "colab_type": "text"
      },
      "source": [
        ""
      ]
    },
    {
      "cell_type": "markdown",
      "metadata": {
        "id": "AGeX0COo1_QA",
        "colab_type": "text"
      },
      "source": [
        ""
      ]
    },
    {
      "cell_type": "markdown",
      "metadata": {
        "id": "EwN9I5ph1_l8",
        "colab_type": "text"
      },
      "source": [
        ""
      ]
    },
    {
      "cell_type": "code",
      "metadata": {
        "id": "mu4TT1QvMd4e",
        "colab_type": "code",
        "outputId": "3261e0eb-8a6a-4ec9-cf70-831103fb31d0",
        "colab": {
          "base_uri": "https://localhost:8080/",
          "height": 606
        }
      },
      "source": [
        "winter_test.plot(grid=True, figsize = (14,9))"
      ],
      "execution_count": 0,
      "outputs": [
        {
          "output_type": "execute_result",
          "data": {
            "text/plain": [
              "<matplotlib.axes._subplots.AxesSubplot at 0x7f7e7390f550>"
            ]
          },
          "metadata": {
            "tags": []
          },
          "execution_count": 8
        },
        {
          "output_type": "display_data",
          "data": {
            "image/png": "[encoded data removed]",
            "text/plain": [
              "<Figure size 1008x648 with 1 Axes>"
            ]
          },
          "metadata": {
            "tags": []
          }
        }
      ]
    },
    {
      "cell_type": "code",
      "metadata": {
        "id": "sKvPhlxCdysg",
        "colab_type": "code",
        "outputId": "4b37c937-3222-4d2e-e953-3321bf66e663",
        "colab": {
          "base_uri": "https://localhost:8080/",
          "height": 134
        }
      },
      "source": [
        "## Eğitim verisinden sadece 'PTF (TL/MWh)' sütununu alıyoruz.\n",
        "winter_training_set = winter_train.iloc[:, 0:1].values\n",
        "winter_training_set"
      ],
      "execution_count": 0,
      "outputs": [
        {
          "output_type": "execute_result",
          "data": {
            "text/plain": [
              "array([[ 70.23],\n",
              "       [ 20.02],\n",
              "       [  0.  ],\n",
              "       ...,\n",
              "       [159.99],\n",
              "       [149.99],\n",
              "       [168.15]])"
            ]
          },
          "metadata": {
            "tags": []
          },
          "execution_count": 9
        }
      ]
    },
    {
      "cell_type": "code",
      "metadata": {
        "id": "pzw6xOq1dXpx",
        "colab_type": "code",
        "outputId": "1ede81c1-44b9-4d6e-e5b8-661f45c26329",
        "colab": {
          "base_uri": "https://localhost:8080/",
          "height": 134
        }
      },
      "source": [
        "# Veri 0-1 aralığına normalize edilecektir.\n",
        "from sklearn.preprocessing import MinMaxScaler\n",
        "# Eğitim verisini normalize ediyoruz.\n",
        "sc = MinMaxScaler(feature_range = (0, 1))\n",
        "winter_training_set_scaled = sc.fit_transform(winter_training_set)\n",
        "winter_training_set_scaled"
      ],
      "execution_count": 0,
      "outputs": [
        {
          "output_type": "execute_result",
          "data": {
            "text/plain": [
              "array([[0.03696335],\n",
              "       [0.0105369 ],\n",
              "       [0.        ],\n",
              "       ...,\n",
              "       [0.08420571],\n",
              "       [0.07894252],\n",
              "       [0.08850047]])"
            ]
          },
          "metadata": {
            "tags": []
          },
          "execution_count": 10
        }
      ]
    },
    {
      "cell_type": "code",
      "metadata": {
        "id": "QPlSbX6CeHhy",
        "colab_type": "code",
        "colab": {}
      },
      "source": [
        "# Eğitim verisinden eğitim için kullanılacak veri yapısı oluşturuluyor.\n",
        "X_train = []\n",
        "y_train = []\n",
        "for i in range(24, len(winter_training_set_scaled)):\n",
        "    X_train.append(winter_training_set_scaled[i-24:i, 0])\n",
        "    y_train.append(winter_training_set_scaled[i, 0])\n",
        "X_train, y_train = np.array(X_train), np.array(y_train)"
      ],
      "execution_count": 0,
      "outputs": []
    },
    {
      "cell_type": "code",
      "metadata": {
        "id": "40v4hv66eKyX",
        "colab_type": "code",
        "colab": {}
      },
      "source": [
        "# Eğitim verisi istenilen forma sokuluyor.\n",
        "X_train = np.reshape(X_train, (X_train.shape[0], X_train.shape[1], 1))"
      ],
      "execution_count": 0,
      "outputs": []
    },
    {
      "cell_type": "code",
      "metadata": {
        "id": "IyeLNH5qec2a",
        "colab_type": "code",
        "colab": {}
      },
      "source": [
        "#keras'tan Sequential modeli import ediliyor\n",
        "from keras.models import Sequential\n",
        "## YSA modeli tanımlanıyor.\n",
        "model = Sequential()"
      ],
      "execution_count": 0,
      "outputs": []
    },
    {
      "cell_type": "code",
      "metadata": {
        "id": "muq1egjJegsu",
        "colab_type": "code",
        "colab": {}
      },
      "source": [
        "#model'e LSTM (Long Term Short Term Memory) katmanı eklenecek\n",
        "from keras.layers import LSTM\n",
        "# Dropout yapay sinir ağını overfitting'den korumak için kullanılacaktır.\n",
        "from keras.layers import Dropout\n",
        "## İlk LSTM katmanı ekleniyor.\n",
        "#Dropout yapay sinir ağını overfitting'den korumak için kullanılmıştır[].\n",
        "#X_train.shape[1] özellik sayısını ifade etmektedir. Kaç tane özellik varsa input_shape o kadar olmalıdır.\n",
        "model.add(LSTM(units = 64, return_sequences = True, input_shape = (X_train.shape[1], 1)))\n",
        "model.add(Dropout(0.2))"
      ],
      "execution_count": 0,
      "outputs": []
    },
    {
      "cell_type": "code",
      "metadata": {
        "id": "48IVLGpKejoJ",
        "colab_type": "code",
        "colab": {}
      },
      "source": [
        "## İkinci LSTM katmanı ekleniyor.\n",
        "model.add(LSTM(units = 64, return_sequences = True))\n",
        "model.add(Dropout(0.2))"
      ],
      "execution_count": 0,
      "outputs": []
    },
    {
      "cell_type": "code",
      "metadata": {
        "id": "f5TgDklyemBH",
        "colab_type": "code",
        "colab": {}
      },
      "source": [
        "## Üçüncü LSTM katmanı ekleniyor.\n",
        "model.add(LSTM(units = 64, return_sequences = True))\n",
        "model.add(Dropout(0.2))"
      ],
      "execution_count": 0,
      "outputs": []
    },
    {
      "cell_type": "code",
      "metadata": {
        "id": "YbAWv6QKep7d",
        "colab_type": "code",
        "colab": {}
      },
      "source": [
        "## Dördüncü LSTM katmanı ekleniyor.\n",
        "model.add(LSTM(units = 50))\n",
        "model.add(Dropout(0.2))"
      ],
      "execution_count": 0,
      "outputs": []
    },
    {
      "cell_type": "code",
      "metadata": {
        "id": "G9evvqnpetGd",
        "colab_type": "code",
        "colab": {}
      },
      "source": [
        "#Dense layer, model'de çıkış katmanı olarak kullanılacak\n",
        "from keras.layers import Dense\n",
        "## Çıkış katmanı ekleniyor. Çıkışta tek bir sayı elde edileceğinden tek nörondan oluşan bir \"Dense Layer\" tanımlanmıştır.\n",
        "model.add(Dense(units = 1))"
      ],
      "execution_count": 0,
      "outputs": []
    },
    {
      "cell_type": "code",
      "metadata": {
        "id": "ULQOWC6lewhZ",
        "colab_type": "code",
        "colab": {}
      },
      "source": [
        "#Regresyon problemi olduğundan MSE metriği hesaplanacaktır.\n",
        "from sklearn.metrics import mean_squared_error\n",
        "## YSA derleniyor (compiling)\n",
        "#Optimizasyon yöntemi ve loss fonksiyonu bu aşamada belirtiliyor.\n",
        "model.compile(optimizer = 'adam', loss = 'mean_squared_error')"
      ],
      "execution_count": 0,
      "outputs": []
    },
    {
      "cell_type": "code",
      "metadata": {
        "id": "QvoHXeQVezc6",
        "colab_type": "code",
        "outputId": "9b9716f4-2d95-4cc5-d9c1-cd80d67d6b46",
        "colab": {
          "base_uri": "https://localhost:8080/",
          "height": 1714
        }
      },
      "source": [
        "## Katmanlar oluşturuldu, optimizasyon yöntemi ve loss fonksiyonu belirtildi.\n",
        "#Artık YSA eğitim verisi ile eğitiliyor\n",
        "model.fit(X_train, y_train, epochs = 50, batch_size = 32)"
      ],
      "execution_count": 0,
      "outputs": [
        {
          "output_type": "stream",
          "text": [
            "Epoch 1/50\n",
            "18048/18048 [==============================] - 43s 2ms/step - loss: 8.0225e-04\n",
            "Epoch 2/50\n",
            "18048/18048 [==============================] - 40s 2ms/step - loss: 5.6882e-04\n",
            "Epoch 3/50\n",
            "18048/18048 [==============================] - 40s 2ms/step - loss: 4.2934e-04\n",
            "Epoch 4/50\n",
            "18048/18048 [==============================] - 40s 2ms/step - loss: 3.6642e-04\n",
            "Epoch 5/50\n",
            "18048/18048 [==============================] - 40s 2ms/step - loss: 3.1161e-04\n",
            "Epoch 6/50\n",
            "18048/18048 [==============================] - 40s 2ms/step - loss: 3.0571e-04\n",
            "Epoch 7/50\n",
            "18048/18048 [==============================] - 40s 2ms/step - loss: 3.0375e-04\n",
            "Epoch 8/50\n",
            "18048/18048 [==============================] - 40s 2ms/step - loss: 2.8399e-04\n",
            "Epoch 9/50\n",
            "18048/18048 [==============================] - 40s 2ms/step - loss: 2.9916e-04\n",
            "Epoch 10/50\n",
            "18048/18048 [==============================] - 40s 2ms/step - loss: 2.6841e-04\n",
            "Epoch 11/50\n",
            "18048/18048 [==============================] - 40s 2ms/step - loss: 2.6902e-04\n",
            "Epoch 12/50\n",
            "18048/18048 [==============================] - 40s 2ms/step - loss: 2.7719e-04\n",
            "Epoch 13/50\n",
            "18048/18048 [==============================] - 40s 2ms/step - loss: 2.6312e-04\n",
            "Epoch 14/50\n",
            "18048/18048 [==============================] - 40s 2ms/step - loss: 2.6474e-04\n",
            "Epoch 15/50\n",
            "18048/18048 [==============================] - 40s 2ms/step - loss: 3.0051e-04\n",
            "Epoch 16/50\n",
            "18048/18048 [==============================] - 40s 2ms/step - loss: 2.5797e-04\n",
            "Epoch 17/50\n",
            "18048/18048 [==============================] - 40s 2ms/step - loss: 2.4924e-04\n",
            "Epoch 18/50\n",
            "18048/18048 [==============================] - 40s 2ms/step - loss: 2.8123e-04\n",
            "Epoch 19/50\n",
            "18048/18048 [==============================] - 40s 2ms/step - loss: 2.5660e-04\n",
            "Epoch 20/50\n",
            "18048/18048 [==============================] - 40s 2ms/step - loss: 2.6013e-04\n",
            "Epoch 21/50\n",
            "18048/18048 [==============================] - 40s 2ms/step - loss: 2.5076e-04\n",
            "Epoch 22/50\n",
            "18048/18048 [==============================] - 40s 2ms/step - loss: 2.5022e-04\n",
            "Epoch 23/50\n",
            "18048/18048 [==============================] - 40s 2ms/step - loss: 2.6648e-04\n",
            "Epoch 24/50\n",
            "18048/18048 [==============================] - 40s 2ms/step - loss: 2.4104e-04\n",
            "Epoch 25/50\n",
            "18048/18048 [==============================] - 40s 2ms/step - loss: 2.8292e-04\n",
            "Epoch 26/50\n",
            "18048/18048 [==============================] - 40s 2ms/step - loss: 2.5103e-04\n",
            "Epoch 27/50\n",
            "18048/18048 [==============================] - 40s 2ms/step - loss: 2.7271e-04\n",
            "Epoch 28/50\n",
            "18048/18048 [==============================] - 40s 2ms/step - loss: 2.6159e-04\n",
            "Epoch 29/50\n",
            "18048/18048 [==============================] - 39s 2ms/step - loss: 2.6150e-04\n",
            "Epoch 30/50\n",
            "18048/18048 [==============================] - 39s 2ms/step - loss: 2.4491e-04\n",
            "Epoch 31/50\n",
            "18048/18048 [==============================] - 40s 2ms/step - loss: 2.4648e-04\n",
            "Epoch 32/50\n",
            "18048/18048 [==============================] - 40s 2ms/step - loss: 2.4708e-04\n",
            "Epoch 33/50\n",
            "18048/18048 [==============================] - 40s 2ms/step - loss: 2.4183e-04\n",
            "Epoch 34/50\n",
            "18048/18048 [==============================] - 40s 2ms/step - loss: 2.4552e-04\n",
            "Epoch 35/50\n",
            "18048/18048 [==============================] - 40s 2ms/step - loss: 2.3767e-04\n",
            "Epoch 36/50\n",
            "18048/18048 [==============================] - 40s 2ms/step - loss: 2.4963e-04\n",
            "Epoch 37/50\n",
            "18048/18048 [==============================] - 40s 2ms/step - loss: 2.2148e-04\n",
            "Epoch 38/50\n",
            "18048/18048 [==============================] - 40s 2ms/step - loss: 2.8722e-04\n",
            "Epoch 39/50\n",
            "18048/18048 [==============================] - 40s 2ms/step - loss: 2.3379e-04\n",
            "Epoch 40/50\n",
            "18048/18048 [==============================] - 40s 2ms/step - loss: 2.3690e-04\n",
            "Epoch 41/50\n",
            "18048/18048 [==============================] - 40s 2ms/step - loss: 2.2842e-04\n",
            "Epoch 42/50\n",
            "18048/18048 [==============================] - 40s 2ms/step - loss: 2.2067e-04\n",
            "Epoch 43/50\n",
            "18048/18048 [==============================] - 40s 2ms/step - loss: 2.3120e-04\n",
            "Epoch 44/50\n",
            "18048/18048 [==============================] - 40s 2ms/step - loss: 2.2265e-04\n",
            "Epoch 45/50\n",
            "18048/18048 [==============================] - 40s 2ms/step - loss: 2.3009e-04\n",
            "Epoch 46/50\n",
            "18048/18048 [==============================] - 40s 2ms/step - loss: 2.2768e-04\n",
            "Epoch 47/50\n",
            "18048/18048 [==============================] - 40s 2ms/step - loss: 2.0923e-04\n",
            "Epoch 48/50\n",
            "18048/18048 [==============================] - 40s 2ms/step - loss: 2.2545e-04\n",
            "Epoch 49/50\n",
            "18048/18048 [==============================] - 40s 2ms/step - loss: 2.3126e-04\n",
            "Epoch 50/50\n",
            "18048/18048 [==============================] - 40s 2ms/step - loss: 2.1410e-04\n"
          ],
          "name": "stdout"
        },
        {
          "output_type": "execute_result",
          "data": {
            "text/plain": [
              "<keras.callbacks.History at 0x7f7e6e6b0a20>"
            ]
          },
          "metadata": {
            "tags": []
          },
          "execution_count": 20
        }
      ]
    },
    {
      "cell_type": "code",
      "metadata": {
        "id": "u02q-7ree4lr",
        "colab_type": "code",
        "colab": {}
      },
      "source": [
        "# Tahmin yapılacak test verisi hazırlanıyor\n",
        "\n",
        "winter_test_set = winter_test.iloc[:, 0:1].values\n",
        "winter_test_set"
      ],
      "execution_count": 0,
      "outputs": []
    },
    {
      "cell_type": "code",
      "metadata": {
        "id": "swUkUhJYe-zY",
        "colab_type": "code",
        "colab": {}
      },
      "source": [
        "#Oluşturulan model ile test verisi üzerinde tahmin yapılıyor.\n",
        "winter_total = pd.concat((winter_train['PTF (TL/MWh)'], winter_test['PTF (TL/MWh)']), axis = 0)\n",
        "inputs = winter_total[len(winter_total) - len(winter_test) - 24:].values\n",
        "inputs"
      ],
      "execution_count": 0,
      "outputs": []
    },
    {
      "cell_type": "code",
      "metadata": {
        "id": "_bwRR6Rf-dpy",
        "colab_type": "code",
        "colab": {}
      },
      "source": [
        "inputs = inputs.reshape(-1,1)\n",
        "inputs = sc.transform(inputs)\n",
        "inputs"
      ],
      "execution_count": 0,
      "outputs": []
    },
    {
      "cell_type": "code",
      "metadata": {
        "id": "0p5aMf3--ujF",
        "colab_type": "code",
        "colab": {}
      },
      "source": [
        "X_test = []\n",
        "for i in range(24, len(inputs)):\n",
        "    X_test.append(inputs[i-24:i, 0])\n",
        "X_test = np.array(X_test)\n",
        "X_test = np.reshape(X_test, (X_test.shape[0], X_test.shape[1], 1))\n",
        "X_test"
      ],
      "execution_count": 0,
      "outputs": []
    },
    {
      "cell_type": "code",
      "metadata": {
        "id": "0Ld_ONvP_g36",
        "colab_type": "code",
        "colab": {}
      },
      "source": [
        "predicted_PTF = model.predict(X_test)\n",
        "predicted_PTF = sc.inverse_transform(predicted_PTF)"
      ],
      "execution_count": 0,
      "outputs": []
    },
    {
      "cell_type": "code",
      "metadata": {
        "id": "uRdQkr-cfCES",
        "colab_type": "code",
        "colab": {}
      },
      "source": [
        "#Sonuçlar yazdırılıyor\n",
        "plt.plot(winter_test, color = 'red', label = 'Gerçek PTF')\n",
        "plt.plot(predicted_PTF, color = 'blue', label = 'Tahmin edilen PTF')\n",
        "plt.title('PTF Tahmin')\n",
        "plt.xlabel('Saat')\n",
        "plt.ylabel('PTF')\n",
        "plt.legend()\n",
        "plt.show()"
      ],
      "execution_count": 0,
      "outputs": []
    }
  ]
}